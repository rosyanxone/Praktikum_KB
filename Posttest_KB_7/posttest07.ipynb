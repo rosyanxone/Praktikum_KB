{
  "nbformat": 4,
  "nbformat_minor": 0,
  "metadata": {
    "colab": {
      "provenance": [],
      "collapsed_sections": []
    },
    "kernelspec": {
      "name": "python3",
      "display_name": "Python 3"
    },
    "language_info": {
      "name": "python"
    }
  },
  "cells": [
    {
      "cell_type": "markdown",
      "source": [
        "## POSTTEST07\n",
        "## Rausyanfikr Adi Karmayoga \n",
        "## 2009106020"
      ],
      "metadata": {
        "id": "WGT-aGXQqm7P"
      }
    },
    {
      "cell_type": "code",
      "execution_count": null,
      "metadata": {
        "id": "6GTSxK-c5AyC"
      },
      "outputs": [],
      "source": [
        "# Memanggil library tensorflow\n",
        "import tensorflow as tf"
      ]
    },
    {
      "cell_type": "markdown",
      "source": [
        "1. Membuat tensor dengan <b>shape(5,5)</b> dengan nilai <b>random</b>"
      ],
      "metadata": {
        "id": "a9vvlL0Uqpm7"
      }
    },
    {
      "cell_type": "code",
      "source": [
        "# Shape = [5, 5]\n",
        "random_tensor = tf.random.normal([5,5], mean=5, stddev=1.0, seed = 1)\n",
        "random_tensor.read_value().numpy()"
      ],
      "metadata": {
        "colab": {
          "base_uri": "https://localhost:8080/"
        },
        "id": "D6XFZLn45NPt",
        "outputId": "8c471f01-da67-450c-e331-a26b7ab6dfd8"
      },
      "execution_count": null,
      "outputs": [
        {
          "output_type": "execute_result",
          "data": {
            "text/plain": [
              "<tf.Tensor: shape=(5, 5), dtype=float32, numpy=\n",
              "array([[4.676135 , 5.991337 , 5.1402426, 6.257397 , 5.099923 ],\n",
              "       [5.189832 , 4.7128882, 3.2586405, 6.8718753, 2.9895496],\n",
              "       [3.5326972, 3.727801 , 4.2196264, 5.94073  , 4.9383516],\n",
              "       [2.9157474, 5.614231 , 3.548908 , 4.113065 , 4.0325913],\n",
              "       [5.9483185, 4.3025503, 5.5391436, 4.4702992, 2.9894636]],\n",
              "      dtype=float32)>"
            ]
          },
          "metadata": {},
          "execution_count": 13
        }
      ]
    },
    {
      "cell_type": "markdown",
      "source": [
        "2. Membuat tensor dengan <b>shape(5,5)</b> dengan nilai bilangan <b>prima</b> dari sebuah <b>list</b>"
      ],
      "metadata": {
        "id": "et3QCDco8S5s"
      }
    },
    {
      "cell_type": "code",
      "source": [
        "# List bilangan prima\n",
        "list = [[2,3,5,7,11],[13,17,19,23,29],[31,37,41,43,47],[53,59,61,67,71],[73,79,83,89,97]]\n",
        "\n",
        "# Shape = [5, 5]\n",
        "prime_tensor = tf.Variable((tf.convert_to_tensor(list, dtype=tf.float32)))\n",
        "prime_tensor"
      ],
      "metadata": {
        "id": "6SY4MZjC6B9i",
        "colab": {
          "base_uri": "https://localhost:8080/"
        },
        "outputId": "c7568046-37c5-4e11-c623-8a7849da4db1"
      },
      "execution_count": null,
      "outputs": [
        {
          "output_type": "execute_result",
          "data": {
            "text/plain": [
              "<tf.Variable 'Variable:0' shape=(5, 5) dtype=float32, numpy=\n",
              "array([[ 2.,  3.,  5.,  7., 11.],\n",
              "       [13., 17., 19., 23., 29.],\n",
              "       [31., 37., 41., 43., 47.],\n",
              "       [53., 59., 61., 67., 71.],\n",
              "       [73., 79., 83., 89., 97.]], dtype=float32)>"
            ]
          },
          "metadata": {},
          "execution_count": 14
        }
      ]
    },
    {
      "cell_type": "markdown",
      "source": [
        "3. <b>Menampilkan dimensi</b> dari kedua variable"
      ],
      "metadata": {
        "id": "9lo8Wr2B8qN9"
      }
    },
    {
      "cell_type": "code",
      "source": [
        "print('Dimensi dari variable random_tensor :', random_tensor.shape)\n",
        "print('Dimensi dari variable prime_tensor  :', prime_tensor.shape)"
      ],
      "metadata": {
        "colab": {
          "base_uri": "https://localhost:8080/"
        },
        "id": "EGgET2ur8qy1",
        "outputId": "d358ec06-b7e5-4323-9fe3-54e0136fdb38"
      },
      "execution_count": null,
      "outputs": [
        {
          "output_type": "stream",
          "name": "stdout",
          "text": [
            "Dimensi dari variable random_tensor : (5, 5)\n",
            "Dimensi dari variable prime_tensor  : (5, 5)\n"
          ]
        }
      ]
    },
    {
      "cell_type": "markdown",
      "source": [
        "4.  Menampilkan hasil dari perhitungan <b>aritmetika</b> kedua variable tersebut "
      ],
      "metadata": {
        "id": "mope0HYk84Bh"
      }
    },
    {
      "cell_type": "code",
      "source": [
        "# tf.add() : operator penjumlahan\n",
        "tf.add(random_tensor, prime_tensor)"
      ],
      "metadata": {
        "colab": {
          "base_uri": "https://localhost:8080/"
        },
        "id": "bHhIvOQi82Zs",
        "outputId": "438bb35e-cac6-4ebe-8add-51284ea7889f"
      },
      "execution_count": null,
      "outputs": [
        {
          "output_type": "execute_result",
          "data": {
            "text/plain": [
              "<tf.Tensor: shape=(5, 5), dtype=float32, numpy=\n",
              "array([[ 6.676135,  8.991337, 10.140243, 13.257397, 16.099922],\n",
              "       [18.189833, 21.712889, 22.25864 , 29.871876, 31.98955 ],\n",
              "       [34.532696, 40.727802, 45.219627, 48.94073 , 51.93835 ],\n",
              "       [55.91575 , 64.61423 , 64.548904, 71.11307 , 75.03259 ],\n",
              "       [78.94832 , 83.30255 , 88.53915 , 93.4703  , 99.98946 ]],\n",
              "      dtype=float32)>"
            ]
          },
          "metadata": {},
          "execution_count": 16
        }
      ]
    },
    {
      "cell_type": "code",
      "source": [
        "# tf.subtract() : operator pengurangan\n",
        "tf.subtract(random_tensor, prime_tensor)"
      ],
      "metadata": {
        "id": "3jTGKH4l9UXx",
        "colab": {
          "base_uri": "https://localhost:8080/"
        },
        "outputId": "609f414c-718f-4ac1-90e4-9e45bc8dc956"
      },
      "execution_count": null,
      "outputs": [
        {
          "output_type": "execute_result",
          "data": {
            "text/plain": [
              "<tf.Tensor: shape=(5, 5), dtype=float32, numpy=\n",
              "array([[  2.676135  ,   2.9913368 ,   0.14024258,  -0.7426028 ,\n",
              "         -5.900077  ],\n",
              "       [ -7.810168  , -12.287111  , -15.74136   , -16.128124  ,\n",
              "        -26.01045   ],\n",
              "       [-27.467302  , -33.272198  , -36.780373  , -37.05927   ,\n",
              "        -42.06165   ],\n",
              "       [-50.08425   , -53.38577   , -57.45109   , -62.886936  ,\n",
              "        -66.96741   ],\n",
              "       [-67.05168   , -74.69745   , -77.46085   , -84.5297    ,\n",
              "        -94.01054   ]], dtype=float32)>"
            ]
          },
          "metadata": {},
          "execution_count": 17
        }
      ]
    },
    {
      "cell_type": "code",
      "source": [
        "# tf.multiply() : operator perkalian\n",
        "tf.multiply(random_tensor, prime_tensor)"
      ],
      "metadata": {
        "id": "moQS_AgE9VOF",
        "colab": {
          "base_uri": "https://localhost:8080/"
        },
        "outputId": "f5cb8ff1-be4f-470d-be45-67e93b3a41ec"
      },
      "execution_count": null,
      "outputs": [
        {
          "output_type": "execute_result",
          "data": {
            "text/plain": [
              "<tf.Tensor: shape=(5, 5), dtype=float32, numpy=\n",
              "array([[  9.35227 ,  17.97401 ,  25.701214,  43.80178 ,  56.099155],\n",
              "       [ 67.46782 ,  80.1191  ,  61.91417 , 158.05313 ,  86.69694 ],\n",
              "       [109.51361 , 137.92863 , 173.00468 , 255.4514  , 232.10252 ],\n",
              "       [154.5346  , 331.23962 , 216.48338 , 275.57535 , 286.314   ],\n",
              "       [434.22723 , 339.9015  , 459.7489  , 397.85663 , 289.97797 ]],\n",
              "      dtype=float32)>"
            ]
          },
          "metadata": {},
          "execution_count": 18
        }
      ]
    },
    {
      "cell_type": "code",
      "source": [
        "# tf.divide() : operator pembagian\n",
        "tf.divide(random_tensor, prime_tensor)"
      ],
      "metadata": {
        "colab": {
          "base_uri": "https://localhost:8080/"
        },
        "id": "Zz12u9Aw_J-t",
        "outputId": "c048fde6-c103-4411-8e2d-aeb2b11897bf"
      },
      "execution_count": null,
      "outputs": [
        {
          "output_type": "execute_result",
          "data": {
            "text/plain": [
              "<tf.Tensor: shape=(5, 5), dtype=float32, numpy=\n",
              "array([[2.3380675 , 1.9971123 , 1.0280485 , 0.89391387, 0.46362936],\n",
              "       [0.39921787, 0.2772287 , 0.1715074 , 0.2987772 , 0.10308792],\n",
              "       [0.11395797, 0.10075138, 0.10291772, 0.13815652, 0.10507131],\n",
              "       [0.0550141 , 0.09515646, 0.05817882, 0.06138903, 0.05679706],\n",
              "       [0.08148381, 0.05446266, 0.06673667, 0.05022808, 0.03081921]],\n",
              "      dtype=float32)>"
            ]
          },
          "metadata": {},
          "execution_count": 19
        }
      ]
    },
    {
      "cell_type": "code",
      "source": [
        "# tf.pow() : operator perpangkatan\n",
        "tf.pow(random_tensor, prime_tensor)"
      ],
      "metadata": {
        "colab": {
          "base_uri": "https://localhost:8080/"
        },
        "id": "Aaa2aqy3_KsK",
        "outputId": "e3b5f43b-f96d-4d54-ec3d-5e68ba538e69"
      },
      "execution_count": null,
      "outputs": [
        {
          "output_type": "execute_result",
          "data": {
            "text/plain": [
              "<tf.Tensor: shape=(5, 5), dtype=float32, numpy=\n",
              "array([[2.1866240e+01, 2.1506573e+02, 3.5885422e+03, 3.7562634e+05,\n",
              "        6.0701572e+07],\n",
              "       [1.9814957e+09, 2.7917815e+11, 5.5936159e+09, 1.7894978e+19,\n",
              "        6.2025074e+13],\n",
              "       [9.8016419e+16, 1.3923583e+21, 4.3274710e+25, 1.8841364e+33,\n",
              "        3.9660164e+32],\n",
              "       [4.2829653e+24,           inf, 3.5956646e+33,           inf,\n",
              "                  inf],\n",
              "       [          inf,           inf,           inf,           inf,\n",
              "                  inf]], dtype=float32)>"
            ]
          },
          "metadata": {},
          "execution_count": 20
        }
      ]
    },
    {
      "cell_type": "markdown",
      "source": [
        "5. Menampilkan nilai <b>maksimal</b> dan <b>minimal</b> dari variable <b>random_tensor</b>"
      ],
      "metadata": {
        "id": "92bTFhdz_cgl"
      }
    },
    {
      "cell_type": "code",
      "source": [
        "# Variable random_tensor\n",
        "print(\"Input tensor:\\n\", random_tensor.numpy())"
      ],
      "metadata": {
        "colab": {
          "base_uri": "https://localhost:8080/"
        },
        "id": "X5y_3Y1I4JBd",
        "outputId": "87e43ddc-fc9d-483d-9743-65ee549bfd36"
      },
      "execution_count": null,
      "outputs": [
        {
          "output_type": "stream",
          "name": "stdout",
          "text": [
            "Input tensor:\n",
            " [[4.676135  5.991337  5.1402426 6.257397  5.099923 ]\n",
            " [5.189832  4.7128882 3.2586405 6.8718753 2.9895496]\n",
            " [3.5326972 3.727801  4.2196264 5.94073   4.9383516]\n",
            " [2.9157474 5.614231  3.548908  4.113065  4.0325913]\n",
            " [5.9483185 4.3025503 5.5391436 4.4702992 2.9894636]]\n"
          ]
        }
      ]
    },
    {
      "cell_type": "code",
      "source": [
        "# Nilai maksimal\n",
        "print('Nilai maksimal berdasarkan kolom :', tf.argmax(random_tensor, axis=0).numpy())\n",
        "print('Nilai maksimal berdasarkan baris :', tf.argmax(random_tensor, axis=1).numpy())"
      ],
      "metadata": {
        "colab": {
          "base_uri": "https://localhost:8080/"
        },
        "id": "HcdUQdDI_cAl",
        "outputId": "5d9e601e-18ad-4cde-c951-da1ffd0e2fb1"
      },
      "execution_count": null,
      "outputs": [
        {
          "output_type": "stream",
          "name": "stdout",
          "text": [
            "Nilai maksimal berdasarkan kolom : [4 0 4 1 0]\n",
            "Nilai maksimal berdasarkan baris : [3 3 3 1 0]\n"
          ]
        }
      ]
    },
    {
      "cell_type": "code",
      "source": [
        "# Nilai minimal\n",
        "print('Nilai minimal berdasarkan kolom :', tf.argmin(random_tensor, axis=0).numpy())\n",
        "print('Nilai minimal berdasarkan baris :', tf.argmin(random_tensor, axis=1).numpy())"
      ],
      "metadata": {
        "colab": {
          "base_uri": "https://localhost:8080/"
        },
        "id": "RsdhJ8ja_fpq",
        "outputId": "aff39f5a-c9ee-422b-8642-ebab7856c715"
      },
      "execution_count": null,
      "outputs": [
        {
          "output_type": "stream",
          "name": "stdout",
          "text": [
            "Nilai minimal berdasarkan kolom : [3 2 1 3 4]\n",
            "Nilai minimal berdasarkan baris : [0 4 0 0 4]\n"
          ]
        }
      ]
    },
    {
      "cell_type": "markdown",
      "source": [
        "6. Menampilkan hasil penggabungan variable random_tensor dengan prime_tensor <b>(concatenation)</b>"
      ],
      "metadata": {
        "id": "0G11yKor_iYT"
      }
    },
    {
      "cell_type": "code",
      "source": [
        "print(\"Ukuran dari data asli :\", random_tensor.shape, prime_tensor.shape)"
      ],
      "metadata": {
        "colab": {
          "base_uri": "https://localhost:8080/"
        },
        "id": "5fLDM7th_j8W",
        "outputId": "29ba2ba9-6721-45ed-d21a-f7f31f5f531d"
      },
      "execution_count": null,
      "outputs": [
        {
          "output_type": "stream",
          "name": "stdout",
          "text": [
            "Ukuran dari data asli : (5, 5) (5, 5)\n"
          ]
        }
      ]
    },
    {
      "cell_type": "code",
      "source": [
        "concat_tensor_column = tf.concat([random_tensor, prime_tensor], axis=0)\n",
        "print(\"Ukuran setelah data digabungkan :\", concat_tensor_column.shape)"
      ],
      "metadata": {
        "colab": {
          "base_uri": "https://localhost:8080/"
        },
        "id": "Iw4ezZ3l_vE-",
        "outputId": "491ea769-2730-471c-d0d2-3a2376723c84"
      },
      "execution_count": null,
      "outputs": [
        {
          "output_type": "stream",
          "name": "stdout",
          "text": [
            "Ukuran setelah data digabungkan : (10, 5)\n"
          ]
        }
      ]
    },
    {
      "cell_type": "markdown",
      "source": [
        "7. Menampilkan hasil sorting kedua variable secara <b>descending</b>"
      ],
      "metadata": {
        "id": "8rT6XnNB_yFw"
      }
    },
    {
      "cell_type": "code",
      "source": [
        "# Descending variable random_tensor\n",
        "tf.sort(random_tensor, direction=\"DESCENDING\").numpy()"
      ],
      "metadata": {
        "colab": {
          "base_uri": "https://localhost:8080/"
        },
        "id": "XILz5SYI_yhs",
        "outputId": "abfe7200-fc57-4e64-ea6c-a3d712b152bc"
      },
      "execution_count": null,
      "outputs": [
        {
          "output_type": "execute_result",
          "data": {
            "text/plain": [
              "array([[6.257397 , 5.991337 , 5.1402426, 5.099923 , 4.676135 ],\n",
              "       [6.8718753, 5.189832 , 4.7128882, 3.2586405, 2.9895496],\n",
              "       [5.94073  , 4.9383516, 4.2196264, 3.727801 , 3.5326972],\n",
              "       [5.614231 , 4.113065 , 4.0325913, 3.548908 , 2.9157474],\n",
              "       [5.9483185, 5.5391436, 4.4702992, 4.3025503, 2.9894636]],\n",
              "      dtype=float32)"
            ]
          },
          "metadata": {},
          "execution_count": 56
        }
      ]
    },
    {
      "cell_type": "code",
      "source": [
        "# Descending variable prime_tensor\n",
        "tf.sort(prime_tensor, direction=\"DESCENDING\").numpy()"
      ],
      "metadata": {
        "colab": {
          "base_uri": "https://localhost:8080/"
        },
        "id": "pUURPgyR_1Q2",
        "outputId": "364fee7a-bd6f-4dc9-95db-8d7f7b3da6ca"
      },
      "execution_count": null,
      "outputs": [
        {
          "output_type": "execute_result",
          "data": {
            "text/plain": [
              "array([[11.,  7.,  5.,  3.,  2.],\n",
              "       [29., 23., 19., 17., 13.],\n",
              "       [47., 43., 41., 37., 31.],\n",
              "       [71., 67., 61., 59., 53.],\n",
              "       [97., 89., 83., 79., 73.]], dtype=float32)"
            ]
          },
          "metadata": {},
          "execution_count": 54
        }
      ]
    }
  ]
}
