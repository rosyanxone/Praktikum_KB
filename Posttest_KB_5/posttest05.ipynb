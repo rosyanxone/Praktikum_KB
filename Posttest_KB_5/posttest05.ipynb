{
  "cells": [
    {
      "cell_type": "markdown",
      "metadata": {
        "id": "Kq_CMnCZiTc7"
      },
      "source": [
        "## POSTTEST05\n",
        "## Rausyanfikr Adi Karmayoga \n",
        "## 2009106020"
      ]
    },
    {
      "cell_type": "code",
      "execution_count": 47,
      "metadata": {
        "id": "oINKZxIwiYMH"
      },
      "outputs": [],
      "source": [
        "import pandas as pd\n",
        "import seaborn as sns\n",
        "import matplotlib.pyplot as plt\n",
        "\n",
        "from sklearn.model_selection import train_test_split\n",
        "from sklearn.neighbors import KNeighborsClassifier\n",
        "from sklearn.naive_bayes import GaussianNB"
      ]
    },
    {
      "cell_type": "markdown",
      "metadata": {},
      "source": [
        "#### Dataset"
      ]
    },
    {
      "cell_type": "code",
      "execution_count": 48,
      "metadata": {
        "colab": {
          "base_uri": "https://localhost:8080/"
        },
        "id": "1xPsRVvEBxvA",
        "outputId": "b891f919-c56b-4d9e-bd9f-cbaec58b65df"
      },
      "outputs": [
        {
          "name": "stdout",
          "output_type": "stream",
          "text": [
            "<class 'pandas.core.frame.DataFrame'>\n",
            "RangeIndex: 600 entries, 0 to 599\n",
            "Data columns (total 15 columns):\n",
            " #   Column               Non-Null Count  Dtype  \n",
            "---  ------               --------------  -----  \n",
            " 0   ID                   600 non-null    object \n",
            " 1   Gender               600 non-null    object \n",
            " 2   Age                  600 non-null    int64  \n",
            " 3   Region_Code          600 non-null    object \n",
            " 4   Occupation           600 non-null    object \n",
            " 5   Channel_Code         600 non-null    object \n",
            " 6   Vintage              600 non-null    float64\n",
            " 7   Credit_Product       600 non-null    object \n",
            " 8   Avg_Account_Balance  600 non-null    int64  \n",
            " 9   Is_Active            600 non-null    object \n",
            " 10  Is_Lead              600 non-null    int64  \n",
            " 11  CreditProduct_No     600 non-null    float64\n",
            " 12  CreditProduct_Yes    600 non-null    float64\n",
            " 13  IsActive_No          600 non-null    float64\n",
            " 14  IsActive_Yes         600 non-null    float64\n",
            "dtypes: float64(5), int64(3), object(7)\n",
            "memory usage: 70.4+ KB\n"
          ]
        }
      ],
      "source": [
        "df = pd.read_csv('data-credit-card clean.csv')\n",
        "df.info()"
      ]
    },
    {
      "cell_type": "code",
      "execution_count": 49,
      "metadata": {
        "colab": {
          "base_uri": "https://localhost:8080/",
          "height": 250
        },
        "id": "iuHBmip2CzfK",
        "outputId": "fd75e7bc-b980-47d5-9388-586cbf39674c"
      },
      "outputs": [
        {
          "data": {
            "text/html": [
              "<div>\n",
              "<style scoped>\n",
              "    .dataframe tbody tr th:only-of-type {\n",
              "        vertical-align: middle;\n",
              "    }\n",
              "\n",
              "    .dataframe tbody tr th {\n",
              "        vertical-align: top;\n",
              "    }\n",
              "\n",
              "    .dataframe thead th {\n",
              "        text-align: right;\n",
              "    }\n",
              "</style>\n",
              "<table border=\"1\" class=\"dataframe\">\n",
              "  <thead>\n",
              "    <tr style=\"text-align: right;\">\n",
              "      <th></th>\n",
              "      <th>ID</th>\n",
              "      <th>Gender</th>\n",
              "      <th>Age</th>\n",
              "      <th>Region_Code</th>\n",
              "      <th>Occupation</th>\n",
              "      <th>Channel_Code</th>\n",
              "      <th>Vintage</th>\n",
              "      <th>Credit_Product</th>\n",
              "      <th>Avg_Account_Balance</th>\n",
              "      <th>Is_Active</th>\n",
              "      <th>Is_Lead</th>\n",
              "      <th>CreditProduct_No</th>\n",
              "      <th>CreditProduct_Yes</th>\n",
              "      <th>IsActive_No</th>\n",
              "      <th>IsActive_Yes</th>\n",
              "    </tr>\n",
              "  </thead>\n",
              "  <tbody>\n",
              "    <tr>\n",
              "      <th>0</th>\n",
              "      <td>NNVBBKZB</td>\n",
              "      <td>Female</td>\n",
              "      <td>73</td>\n",
              "      <td>RG268</td>\n",
              "      <td>Other</td>\n",
              "      <td>X3</td>\n",
              "      <td>43.0</td>\n",
              "      <td>No</td>\n",
              "      <td>1045696</td>\n",
              "      <td>No</td>\n",
              "      <td>0</td>\n",
              "      <td>1.0</td>\n",
              "      <td>0.0</td>\n",
              "      <td>1.0</td>\n",
              "      <td>0.0</td>\n",
              "    </tr>\n",
              "    <tr>\n",
              "      <th>1</th>\n",
              "      <td>IDD62UNG</td>\n",
              "      <td>Female</td>\n",
              "      <td>30</td>\n",
              "      <td>RG277</td>\n",
              "      <td>Salaried</td>\n",
              "      <td>X1</td>\n",
              "      <td>32.0</td>\n",
              "      <td>No</td>\n",
              "      <td>581988</td>\n",
              "      <td>No</td>\n",
              "      <td>0</td>\n",
              "      <td>1.0</td>\n",
              "      <td>0.0</td>\n",
              "      <td>1.0</td>\n",
              "      <td>0.0</td>\n",
              "    </tr>\n",
              "    <tr>\n",
              "      <th>2</th>\n",
              "      <td>HD3DSEMC</td>\n",
              "      <td>Female</td>\n",
              "      <td>56</td>\n",
              "      <td>RG268</td>\n",
              "      <td>Self_Employed</td>\n",
              "      <td>X3</td>\n",
              "      <td>26.0</td>\n",
              "      <td>No</td>\n",
              "      <td>1484315</td>\n",
              "      <td>Yes</td>\n",
              "      <td>0</td>\n",
              "      <td>1.0</td>\n",
              "      <td>0.0</td>\n",
              "      <td>0.0</td>\n",
              "      <td>1.0</td>\n",
              "    </tr>\n",
              "    <tr>\n",
              "      <th>3</th>\n",
              "      <td>BF3NC7KV</td>\n",
              "      <td>Male</td>\n",
              "      <td>34</td>\n",
              "      <td>RG270</td>\n",
              "      <td>Salaried</td>\n",
              "      <td>X1</td>\n",
              "      <td>19.0</td>\n",
              "      <td>No</td>\n",
              "      <td>470454</td>\n",
              "      <td>No</td>\n",
              "      <td>0</td>\n",
              "      <td>1.0</td>\n",
              "      <td>0.0</td>\n",
              "      <td>1.0</td>\n",
              "      <td>0.0</td>\n",
              "    </tr>\n",
              "    <tr>\n",
              "      <th>4</th>\n",
              "      <td>TEASRWXV</td>\n",
              "      <td>Female</td>\n",
              "      <td>30</td>\n",
              "      <td>RG282</td>\n",
              "      <td>Salaried</td>\n",
              "      <td>X1</td>\n",
              "      <td>33.0</td>\n",
              "      <td>No</td>\n",
              "      <td>886787</td>\n",
              "      <td>No</td>\n",
              "      <td>0</td>\n",
              "      <td>1.0</td>\n",
              "      <td>0.0</td>\n",
              "      <td>1.0</td>\n",
              "      <td>0.0</td>\n",
              "    </tr>\n",
              "  </tbody>\n",
              "</table>\n",
              "</div>"
            ],
            "text/plain": [
              "         ID  Gender  Age Region_Code     Occupation Channel_Code  Vintage  \\\n",
              "0  NNVBBKZB  Female   73       RG268          Other           X3     43.0   \n",
              "1  IDD62UNG  Female   30       RG277       Salaried           X1     32.0   \n",
              "2  HD3DSEMC  Female   56       RG268  Self_Employed           X3     26.0   \n",
              "3  BF3NC7KV    Male   34       RG270       Salaried           X1     19.0   \n",
              "4  TEASRWXV  Female   30       RG282       Salaried           X1     33.0   \n",
              "\n",
              "  Credit_Product  Avg_Account_Balance Is_Active  Is_Lead  CreditProduct_No  \\\n",
              "0             No              1045696        No        0               1.0   \n",
              "1             No               581988        No        0               1.0   \n",
              "2             No              1484315       Yes        0               1.0   \n",
              "3             No               470454        No        0               1.0   \n",
              "4             No               886787        No        0               1.0   \n",
              "\n",
              "   CreditProduct_Yes  IsActive_No  IsActive_Yes  \n",
              "0                0.0          1.0           0.0  \n",
              "1                0.0          1.0           0.0  \n",
              "2                0.0          0.0           1.0  \n",
              "3                0.0          1.0           0.0  \n",
              "4                0.0          1.0           0.0  "
            ]
          },
          "execution_count": 49,
          "metadata": {},
          "output_type": "execute_result"
        }
      ],
      "source": [
        "df.head(5)"
      ]
    },
    {
      "cell_type": "markdown",
      "metadata": {},
      "source": [
        "#### Membuang atribut tipe data objek dan membuat atribut <b>Is_Active</b> sebagai label"
      ]
    },
    {
      "cell_type": "code",
      "execution_count": 50,
      "metadata": {},
      "outputs": [
        {
          "data": {
            "text/html": [
              "<div>\n",
              "<style scoped>\n",
              "    .dataframe tbody tr th:only-of-type {\n",
              "        vertical-align: middle;\n",
              "    }\n",
              "\n",
              "    .dataframe tbody tr th {\n",
              "        vertical-align: top;\n",
              "    }\n",
              "\n",
              "    .dataframe thead th {\n",
              "        text-align: right;\n",
              "    }\n",
              "</style>\n",
              "<table border=\"1\" class=\"dataframe\">\n",
              "  <thead>\n",
              "    <tr style=\"text-align: right;\">\n",
              "      <th></th>\n",
              "      <th>Gender</th>\n",
              "      <th>Age</th>\n",
              "      <th>Region_Code</th>\n",
              "      <th>Occupation</th>\n",
              "      <th>Channel_Code</th>\n",
              "      <th>Vintage</th>\n",
              "      <th>Credit_Product</th>\n",
              "      <th>Avg_Account_Balance</th>\n",
              "      <th>Is_Lead</th>\n",
              "    </tr>\n",
              "  </thead>\n",
              "  <tbody>\n",
              "    <tr>\n",
              "      <th>0</th>\n",
              "      <td>Female</td>\n",
              "      <td>73</td>\n",
              "      <td>RG268</td>\n",
              "      <td>Other</td>\n",
              "      <td>X3</td>\n",
              "      <td>43.0</td>\n",
              "      <td>No</td>\n",
              "      <td>1045696</td>\n",
              "      <td>0</td>\n",
              "    </tr>\n",
              "    <tr>\n",
              "      <th>1</th>\n",
              "      <td>Female</td>\n",
              "      <td>30</td>\n",
              "      <td>RG277</td>\n",
              "      <td>Salaried</td>\n",
              "      <td>X1</td>\n",
              "      <td>32.0</td>\n",
              "      <td>No</td>\n",
              "      <td>581988</td>\n",
              "      <td>0</td>\n",
              "    </tr>\n",
              "    <tr>\n",
              "      <th>2</th>\n",
              "      <td>Female</td>\n",
              "      <td>56</td>\n",
              "      <td>RG268</td>\n",
              "      <td>Self_Employed</td>\n",
              "      <td>X3</td>\n",
              "      <td>26.0</td>\n",
              "      <td>No</td>\n",
              "      <td>1484315</td>\n",
              "      <td>0</td>\n",
              "    </tr>\n",
              "    <tr>\n",
              "      <th>3</th>\n",
              "      <td>Male</td>\n",
              "      <td>34</td>\n",
              "      <td>RG270</td>\n",
              "      <td>Salaried</td>\n",
              "      <td>X1</td>\n",
              "      <td>19.0</td>\n",
              "      <td>No</td>\n",
              "      <td>470454</td>\n",
              "      <td>0</td>\n",
              "    </tr>\n",
              "    <tr>\n",
              "      <th>4</th>\n",
              "      <td>Female</td>\n",
              "      <td>30</td>\n",
              "      <td>RG282</td>\n",
              "      <td>Salaried</td>\n",
              "      <td>X1</td>\n",
              "      <td>33.0</td>\n",
              "      <td>No</td>\n",
              "      <td>886787</td>\n",
              "      <td>0</td>\n",
              "    </tr>\n",
              "  </tbody>\n",
              "</table>\n",
              "</div>"
            ],
            "text/plain": [
              "   Gender  Age Region_Code     Occupation Channel_Code  Vintage  \\\n",
              "0  Female   73       RG268          Other           X3     43.0   \n",
              "1  Female   30       RG277       Salaried           X1     32.0   \n",
              "2  Female   56       RG268  Self_Employed           X3     26.0   \n",
              "3    Male   34       RG270       Salaried           X1     19.0   \n",
              "4  Female   30       RG282       Salaried           X1     33.0   \n",
              "\n",
              "  Credit_Product  Avg_Account_Balance  Is_Lead  \n",
              "0             No              1045696        0  \n",
              "1             No               581988        0  \n",
              "2             No              1484315        0  \n",
              "3             No               470454        0  \n",
              "4             No               886787        0  "
            ]
          },
          "execution_count": 50,
          "metadata": {},
          "output_type": "execute_result"
        }
      ],
      "source": [
        "x = df.drop(['ID','Is_Active', 'CreditProduct_No', 'CreditProduct_Yes', 'IsActive_No', 'IsActive_Yes'], axis=1)\n",
        "y = df['Is_Active']\n",
        "x.head()"
      ]
    },
    {
      "cell_type": "markdown",
      "metadata": {},
      "source": [
        "#### Membuat data x menjadi encoding"
      ]
    },
    {
      "cell_type": "code",
      "execution_count": 51,
      "metadata": {},
      "outputs": [
        {
          "data": {
            "text/html": [
              "<div>\n",
              "<style scoped>\n",
              "    .dataframe tbody tr th:only-of-type {\n",
              "        vertical-align: middle;\n",
              "    }\n",
              "\n",
              "    .dataframe tbody tr th {\n",
              "        vertical-align: top;\n",
              "    }\n",
              "\n",
              "    .dataframe thead th {\n",
              "        text-align: right;\n",
              "    }\n",
              "</style>\n",
              "<table border=\"1\" class=\"dataframe\">\n",
              "  <thead>\n",
              "    <tr style=\"text-align: right;\">\n",
              "      <th></th>\n",
              "      <th>Age</th>\n",
              "      <th>Vintage</th>\n",
              "      <th>Avg_Account_Balance</th>\n",
              "      <th>Is_Lead</th>\n",
              "      <th>Gender_Female</th>\n",
              "      <th>Gender_Male</th>\n",
              "      <th>Region_Code_RG250</th>\n",
              "      <th>Region_Code_RG251</th>\n",
              "      <th>Region_Code_RG252</th>\n",
              "      <th>Region_Code_RG253</th>\n",
              "      <th>...</th>\n",
              "      <th>Occupation_Entrepreneur</th>\n",
              "      <th>Occupation_Other</th>\n",
              "      <th>Occupation_Salaried</th>\n",
              "      <th>Occupation_Self_Employed</th>\n",
              "      <th>Channel_Code_X1</th>\n",
              "      <th>Channel_Code_X2</th>\n",
              "      <th>Channel_Code_X3</th>\n",
              "      <th>Channel_Code_X4</th>\n",
              "      <th>Credit_Product_No</th>\n",
              "      <th>Credit_Product_Yes</th>\n",
              "    </tr>\n",
              "  </thead>\n",
              "  <tbody>\n",
              "    <tr>\n",
              "      <th>0</th>\n",
              "      <td>73</td>\n",
              "      <td>43.0</td>\n",
              "      <td>1045696</td>\n",
              "      <td>0</td>\n",
              "      <td>1</td>\n",
              "      <td>0</td>\n",
              "      <td>0</td>\n",
              "      <td>0</td>\n",
              "      <td>0</td>\n",
              "      <td>0</td>\n",
              "      <td>...</td>\n",
              "      <td>0</td>\n",
              "      <td>1</td>\n",
              "      <td>0</td>\n",
              "      <td>0</td>\n",
              "      <td>0</td>\n",
              "      <td>0</td>\n",
              "      <td>1</td>\n",
              "      <td>0</td>\n",
              "      <td>1</td>\n",
              "      <td>0</td>\n",
              "    </tr>\n",
              "    <tr>\n",
              "      <th>1</th>\n",
              "      <td>30</td>\n",
              "      <td>32.0</td>\n",
              "      <td>581988</td>\n",
              "      <td>0</td>\n",
              "      <td>1</td>\n",
              "      <td>0</td>\n",
              "      <td>0</td>\n",
              "      <td>0</td>\n",
              "      <td>0</td>\n",
              "      <td>0</td>\n",
              "      <td>...</td>\n",
              "      <td>0</td>\n",
              "      <td>0</td>\n",
              "      <td>1</td>\n",
              "      <td>0</td>\n",
              "      <td>1</td>\n",
              "      <td>0</td>\n",
              "      <td>0</td>\n",
              "      <td>0</td>\n",
              "      <td>1</td>\n",
              "      <td>0</td>\n",
              "    </tr>\n",
              "    <tr>\n",
              "      <th>2</th>\n",
              "      <td>56</td>\n",
              "      <td>26.0</td>\n",
              "      <td>1484315</td>\n",
              "      <td>0</td>\n",
              "      <td>1</td>\n",
              "      <td>0</td>\n",
              "      <td>0</td>\n",
              "      <td>0</td>\n",
              "      <td>0</td>\n",
              "      <td>0</td>\n",
              "      <td>...</td>\n",
              "      <td>0</td>\n",
              "      <td>0</td>\n",
              "      <td>0</td>\n",
              "      <td>1</td>\n",
              "      <td>0</td>\n",
              "      <td>0</td>\n",
              "      <td>1</td>\n",
              "      <td>0</td>\n",
              "      <td>1</td>\n",
              "      <td>0</td>\n",
              "    </tr>\n",
              "    <tr>\n",
              "      <th>3</th>\n",
              "      <td>34</td>\n",
              "      <td>19.0</td>\n",
              "      <td>470454</td>\n",
              "      <td>0</td>\n",
              "      <td>0</td>\n",
              "      <td>1</td>\n",
              "      <td>0</td>\n",
              "      <td>0</td>\n",
              "      <td>0</td>\n",
              "      <td>0</td>\n",
              "      <td>...</td>\n",
              "      <td>0</td>\n",
              "      <td>0</td>\n",
              "      <td>1</td>\n",
              "      <td>0</td>\n",
              "      <td>1</td>\n",
              "      <td>0</td>\n",
              "      <td>0</td>\n",
              "      <td>0</td>\n",
              "      <td>1</td>\n",
              "      <td>0</td>\n",
              "    </tr>\n",
              "    <tr>\n",
              "      <th>4</th>\n",
              "      <td>30</td>\n",
              "      <td>33.0</td>\n",
              "      <td>886787</td>\n",
              "      <td>0</td>\n",
              "      <td>1</td>\n",
              "      <td>0</td>\n",
              "      <td>0</td>\n",
              "      <td>0</td>\n",
              "      <td>0</td>\n",
              "      <td>0</td>\n",
              "      <td>...</td>\n",
              "      <td>0</td>\n",
              "      <td>0</td>\n",
              "      <td>1</td>\n",
              "      <td>0</td>\n",
              "      <td>1</td>\n",
              "      <td>0</td>\n",
              "      <td>0</td>\n",
              "      <td>0</td>\n",
              "      <td>1</td>\n",
              "      <td>0</td>\n",
              "    </tr>\n",
              "  </tbody>\n",
              "</table>\n",
              "<p>5 rows × 51 columns</p>\n",
              "</div>"
            ],
            "text/plain": [
              "   Age  Vintage  Avg_Account_Balance  Is_Lead  Gender_Female  Gender_Male  \\\n",
              "0   73     43.0              1045696        0              1            0   \n",
              "1   30     32.0               581988        0              1            0   \n",
              "2   56     26.0              1484315        0              1            0   \n",
              "3   34     19.0               470454        0              0            1   \n",
              "4   30     33.0               886787        0              1            0   \n",
              "\n",
              "   Region_Code_RG250  Region_Code_RG251  Region_Code_RG252  Region_Code_RG253  \\\n",
              "0                  0                  0                  0                  0   \n",
              "1                  0                  0                  0                  0   \n",
              "2                  0                  0                  0                  0   \n",
              "3                  0                  0                  0                  0   \n",
              "4                  0                  0                  0                  0   \n",
              "\n",
              "   ...  Occupation_Entrepreneur  Occupation_Other  Occupation_Salaried  \\\n",
              "0  ...                        0                 1                    0   \n",
              "1  ...                        0                 0                    1   \n",
              "2  ...                        0                 0                    0   \n",
              "3  ...                        0                 0                    1   \n",
              "4  ...                        0                 0                    1   \n",
              "\n",
              "   Occupation_Self_Employed  Channel_Code_X1  Channel_Code_X2  \\\n",
              "0                         0                0                0   \n",
              "1                         0                1                0   \n",
              "2                         1                0                0   \n",
              "3                         0                1                0   \n",
              "4                         0                1                0   \n",
              "\n",
              "   Channel_Code_X3  Channel_Code_X4  Credit_Product_No  Credit_Product_Yes  \n",
              "0                1                0                  1                   0  \n",
              "1                0                0                  1                   0  \n",
              "2                1                0                  1                   0  \n",
              "3                0                0                  1                   0  \n",
              "4                0                0                  1                   0  \n",
              "\n",
              "[5 rows x 51 columns]"
            ]
          },
          "execution_count": 51,
          "metadata": {},
          "output_type": "execute_result"
        }
      ],
      "source": [
        "X = pd.get_dummies(x)\n",
        "X.head()"
      ]
    },
    {
      "cell_type": "markdown",
      "metadata": {},
      "source": [
        "## Algoritma K-Nearest Neighbor"
      ]
    },
    {
      "cell_type": "code",
      "execution_count": 52,
      "metadata": {},
      "outputs": [
        {
          "data": {
            "text/plain": [
              "KNeighborsClassifier()"
            ]
          },
          "execution_count": 52,
          "metadata": {},
          "output_type": "execute_result"
        }
      ],
      "source": [
        "x_train, x_test, y_train, y_test = train_test_split(X, y, test_size = 0.2)\n",
        "knn = KNeighborsClassifier(n_neighbors = 5)\n",
        "knn.fit(x_train, y_train)"
      ]
    },
    {
      "cell_type": "code",
      "execution_count": 53,
      "metadata": {},
      "outputs": [
        {
          "name": "stdout",
          "output_type": "stream",
          "text": [
            "Score training set model KNN : 0.71875\n",
            "Score test set model KNN     : 0.4917\n"
          ]
        }
      ],
      "source": [
        "knn_train = knn.score(x_train, y_train)\n",
        "knn_test = knn.score(x_test, y_test)\n",
        "\n",
        "print('Score training set model KNN :', knn_train)\n",
        "print('Score test set model KNN     :', round(knn_test, 4))"
      ]
    },
    {
      "cell_type": "markdown",
      "metadata": {},
      "source": [
        "## Algoritma Naïve Bayes"
      ]
    },
    {
      "cell_type": "code",
      "execution_count": 54,
      "metadata": {},
      "outputs": [
        {
          "data": {
            "text/plain": [
              "GaussianNB()"
            ]
          },
          "execution_count": 54,
          "metadata": {},
          "output_type": "execute_result"
        }
      ],
      "source": [
        "gs = GaussianNB()\n",
        "gs.fit(x_train, y_train)"
      ]
    },
    {
      "cell_type": "code",
      "execution_count": 55,
      "metadata": {},
      "outputs": [
        {
          "name": "stdout",
          "output_type": "stream",
          "text": [
            "Score training set model Naive Bayes : 0.6167\n",
            "Score test set model Naaive Bayes    : 0.5917\n"
          ]
        }
      ],
      "source": [
        "naivbay_train = gs.score(x_train, y_train)\n",
        "naivbay_test = gs.score(x_test, y_test)\n",
        "\n",
        "print('Score training set model Naive Bayes :', round(naivbay_train, 4))\n",
        "print('Score test set model Naaive Bayes    :', round(naivbay_test, 4))"
      ]
    },
    {
      "cell_type": "markdown",
      "metadata": {},
      "source": [
        "## Perbandingan Model Menggunakan Grafik"
      ]
    },
    {
      "cell_type": "code",
      "execution_count": 56,
      "metadata": {},
      "outputs": [
        {
          "data": {
            "image/png": "[encoded data removed]",
            "text/plain": [
              "<Figure size 720x720 with 1 Axes>"
            ]
          },
          "metadata": {
            "needs_background": "light"
          },
          "output_type": "display_data"
        }
      ],
      "source": [
        "algoritma = [\"KNN\",\"Naive Bayes\"]\n",
        "pred_train = [knn_train, naivbay_train]\n",
        "plt.figure(figsize=(10,10))\n",
        "sns.barplot(x = algoritma, y = pred_train, palette='Greys')\n",
        "plt.title(\"Score Set Training\")\n",
        "plt.show()"
      ]
    },
    {
      "cell_type": "code",
      "execution_count": 57,
      "metadata": {},
      "outputs": [
        {
          "data": {
            "image/png": "[encoded data removed]",
            "text/plain": [
              "<Figure size 720x720 with 1 Axes>"
            ]
          },
          "metadata": {
            "needs_background": "light"
          },
          "output_type": "display_data"
        }
      ],
      "source": [
        "algoritma = [\"KNN\",\"Naive Bayes\"]\n",
        "pred_train = [knn_test, naivbay_test]\n",
        "plt.figure(figsize=(10,10))\n",
        "sns.barplot(x = algoritma, y = pred_train, palette='Greys')\n",
        "plt.title(\"Score Set Test\")\n",
        "plt.show()"
      ]
    }
  ],
  "metadata": {
    "colab": {
      "collapsed_sections": [],
      "provenance": []
    },
    "kernelspec": {
      "display_name": "Python 3.9.12 ('base')",
      "language": "python",
      "name": "python3"
    },
    "language_info": {
      "codemirror_mode": {
        "name": "ipython",
        "version": 3
      },
      "file_extension": ".py",
      "mimetype": "text/x-python",
      "name": "python",
      "nbconvert_exporter": "python",
      "pygments_lexer": "ipython3",
      "version": "3.9.12"
    },
    "vscode": {
      "interpreter": {
        "hash": "893543574c7e7d3c5e638782703561e210285fbe71ceec7c797ddb949279f1e0"
      }
    }
  },
  "nbformat": 4,
  "nbformat_minor": 0
}
