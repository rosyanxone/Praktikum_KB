{
  "nbformat": 4,
  "nbformat_minor": 0,
  "metadata": {
    "colab": {
      "provenance": [],
      "collapsed_sections": [],
      "toc_visible": true
    },
    "kernelspec": {
      "name": "python3",
      "display_name": "Python 3"
    },
    "language_info": {
      "name": "python"
    }
  },
  "cells": [
    {
      "cell_type": "markdown",
      "source": [
        "## POSTTEST08\n",
        "## Rausyanfikr Adi Karmayoga \n",
        "## 2009106020"
      ],
      "metadata": {
        "id": "z586p4mSAZZE"
      }
    },
    {
      "cell_type": "code",
      "execution_count": 378,
      "metadata": {
        "id": "I0WrZWQwLBoM"
      },
      "outputs": [],
      "source": [
        "# Import Library\n",
        "import numpy as np\n",
        "import pandas as pd\n",
        "import tensorflow as tf\n",
        "import matplotlib.pyplot as plt\n",
        "\n",
        "from tensorflow import keras\n",
        "from tensorflow.keras.layers import Dense\n",
        "from tensorflow.keras.utils import to_categorical\n",
        "from tensorflow.keras import layers, optimizers, datasets, Sequential"
      ]
    },
    {
      "cell_type": "markdown",
      "source": [
        "- Dataset"
      ],
      "metadata": {
        "id": "PDzrUTEAB-Er"
      }
    },
    {
      "cell_type": "code",
      "source": [
        "# Load dataset milik Keras\n",
        "(x_train_raw, y_train_raw), (x_test_raw, y_test_raw) = datasets.mnist.load_data(path=\"mnist.npz\")\n",
        "\n",
        "# Shape dari Train dan Test X\n",
        "print('Train: X=%s, y=%s' % (x_train_raw.shape, y_train_raw.shape))\n",
        "print('Test: X=%s, y=%s' % (x_test_raw.shape, y_test_raw.shape))"
      ],
      "metadata": {
        "colab": {
          "base_uri": "https://localhost:8080/"
        },
        "id": "i0lYRHRwO3_x",
        "outputId": "6da8ee82-4d44-4af1-8088-e86e5aae0675"
      },
      "execution_count": 382,
      "outputs": [
        {
          "output_type": "stream",
          "name": "stdout",
          "text": [
            "Train: X=(60000, 28, 28), y=(60000,)\n",
            "Test: X=(10000, 28, 28), y=(10000,)\n"
          ]
        }
      ]
    },
    {
      "cell_type": "code",
      "source": [
        "# Data Encoding\n",
        "num_classes = 10\n",
        "y_train = to_categorical(y_train_raw, num_classes)\n",
        "y_test = to_categorical(y_test_raw, num_classes)\n",
        "print(y_train)"
      ],
      "metadata": {
        "colab": {
          "base_uri": "https://localhost:8080/"
        },
        "id": "Nwq96-fBPEsa",
        "outputId": "6e79325a-ffb9-4285-c88a-de74c7767d9a"
      },
      "execution_count": 383,
      "outputs": [
        {
          "output_type": "stream",
          "name": "stdout",
          "text": [
            "[[0. 0. 0. ... 0. 0. 0.]\n",
            " [1. 0. 0. ... 0. 0. 0.]\n",
            " [0. 0. 0. ... 0. 0. 0.]\n",
            " ...\n",
            " [0. 0. 0. ... 0. 0. 0.]\n",
            " [0. 0. 0. ... 0. 0. 0.]\n",
            " [0. 0. 0. ... 0. 1. 0.]]\n"
          ]
        }
      ]
    },
    {
      "cell_type": "code",
      "source": [
        "# Preview gambar dataset Mnist\n",
        "plt.figure(figsize=(7,7))\n",
        "for i in range(9):\n",
        "  plt.subplot(3,3,i+1)\n",
        "  plt.imshow(x_train_raw[i],cmap='gray')\n",
        "  plt.axis('off')\n",
        "\n",
        "plt.show()"
      ],
      "metadata": {
        "id": "c2_vo1fZa82q",
        "colab": {
          "base_uri": "https://localhost:8080/",
          "height": 411
        },
        "outputId": "de7500e5-1f49-48dc-bef1-4ff903e02faf"
      },
      "execution_count": 385,
      "outputs": [
        {
          "output_type": "display_data",
          "data": {
            "text/plain": [
              "<Figure size 504x504 with 9 Axes>"
            ],
            "image/png": "[encoded data removed]"
          },
          "metadata": {
            "needs_background": "light"
          }
        }
      ]
    },
    {
      "cell_type": "code",
      "source": [
        "# Reshape gambar\n",
        "x_train = x_train_raw.reshape(60000, 784)\n",
        "x_test = x_test_raw.reshape(10000, 784)\n",
        "\n",
        "# Scaling gambar\n",
        "x_train = x_train.astype('float32')/255\n",
        "x_test = x_test.astype('float32')/255"
      ],
      "metadata": {
        "id": "I33DsVyEduRM"
      },
      "execution_count": 386,
      "outputs": []
    },
    {
      "cell_type": "markdown",
      "source": [
        "- Menggunakan model <b>Sequential</b>"
      ],
      "metadata": {
        "id": "L645eFHECw_6"
      }
    },
    {
      "cell_type": "code",
      "source": [
        "model = Sequential()\n",
        "\n",
        "# Input Layer\n",
        "model.add(Dense(512,activation='relu',input_dim=784))\n",
        "\n",
        "# Hidden Layer\n",
        "model.add(Dense(256,activation='relu'))\n",
        "model.add(Dense(128,activation='relu'))\n",
        "\n",
        "# Output Layer\n",
        "model.add(Dense(10,activation='softmax'))\n",
        "\n",
        "model.summary()"
      ],
      "metadata": {
        "colab": {
          "base_uri": "https://localhost:8080/"
        },
        "id": "vWLoN-wbiN8G",
        "outputId": "78d3b577-974f-48a2-b1a9-7dd12ca6a652"
      },
      "execution_count": 388,
      "outputs": [
        {
          "output_type": "stream",
          "name": "stdout",
          "text": [
            "Model: \"sequential_70\"\n",
            "_________________________________________________________________\n",
            " Layer (type)                Output Shape              Param #   \n",
            "=================================================================\n",
            " dense_280 (Dense)           (None, 512)               401920    \n",
            "                                                                 \n",
            " dense_281 (Dense)           (None, 256)               131328    \n",
            "                                                                 \n",
            " dense_282 (Dense)           (None, 128)               32896     \n",
            "                                                                 \n",
            " dense_283 (Dense)           (None, 10)                1290      \n",
            "                                                                 \n",
            "=================================================================\n",
            "Total params: 567,434\n",
            "Trainable params: 567,434\n",
            "Non-trainable params: 0\n",
            "_________________________________________________________________\n"
          ]
        }
      ]
    },
    {
      "cell_type": "code",
      "source": [
        "# Compile model\n",
        "Optimizer = optimizers.Adam(learning_rate=0.0001)\n",
        "model.compile(loss=keras.losses.categorical_crossentropy, optimizer=Optimizer, metrics=['accuracy'])"
      ],
      "metadata": {
        "id": "mf18d1nYiSEq"
      },
      "execution_count": 390,
      "outputs": []
    },
    {
      "cell_type": "markdown",
      "source": [
        "- Minimal akurasi training 70% dan validation 70%"
      ],
      "metadata": {
        "id": "_oCBYLNjDpTy"
      }
    },
    {
      "cell_type": "code",
      "source": [
        "# Training model\n",
        "model.fit(x_train,y_train,epochs=10,batch_size=128,verbose=1,validation_data=(x_test,y_test))"
      ],
      "metadata": {
        "colab": {
          "base_uri": "https://localhost:8080/"
        },
        "id": "6yJ-XS2Nlu3_",
        "outputId": "bbc0fde1-bf85-4ba3-adb2-cf522496326c"
      },
      "execution_count": 391,
      "outputs": [
        {
          "output_type": "stream",
          "name": "stdout",
          "text": [
            "Epoch 1/10\n",
            "469/469 [==============================] - 7s 15ms/step - loss: 0.5628 - accuracy: 0.8595 - val_loss: 0.2237 - val_accuracy: 0.9361\n",
            "Epoch 2/10\n",
            "469/469 [==============================] - 6s 14ms/step - loss: 0.1965 - accuracy: 0.9438 - val_loss: 0.1618 - val_accuracy: 0.9543\n",
            "Epoch 3/10\n",
            "469/469 [==============================] - 6s 13ms/step - loss: 0.1460 - accuracy: 0.9579 - val_loss: 0.1328 - val_accuracy: 0.9612\n",
            "Epoch 4/10\n",
            "469/469 [==============================] - 6s 13ms/step - loss: 0.1162 - accuracy: 0.9668 - val_loss: 0.1197 - val_accuracy: 0.9640\n",
            "Epoch 5/10\n",
            "469/469 [==============================] - 6s 14ms/step - loss: 0.0954 - accuracy: 0.9726 - val_loss: 0.1054 - val_accuracy: 0.9686\n",
            "Epoch 6/10\n",
            "469/469 [==============================] - 6s 13ms/step - loss: 0.0804 - accuracy: 0.9766 - val_loss: 0.0866 - val_accuracy: 0.9732\n",
            "Epoch 7/10\n",
            "469/469 [==============================] - 6s 14ms/step - loss: 0.0676 - accuracy: 0.9809 - val_loss: 0.0803 - val_accuracy: 0.9751\n",
            "Epoch 8/10\n",
            "469/469 [==============================] - 7s 15ms/step - loss: 0.0574 - accuracy: 0.9838 - val_loss: 0.0778 - val_accuracy: 0.9757\n",
            "Epoch 9/10\n",
            "469/469 [==============================] - 8s 16ms/step - loss: 0.0487 - accuracy: 0.9864 - val_loss: 0.0739 - val_accuracy: 0.9766\n",
            "Epoch 10/10\n",
            "469/469 [==============================] - 8s 18ms/step - loss: 0.0426 - accuracy: 0.9881 - val_loss: 0.0757 - val_accuracy: 0.9757\n"
          ]
        },
        {
          "output_type": "execute_result",
          "data": {
            "text/plain": [
              "<keras.callbacks.History at 0x7f43b4be26d0>"
            ]
          },
          "metadata": {},
          "execution_count": 391
        }
      ]
    },
    {
      "cell_type": "code",
      "source": [
        "# Evaluasi model\n",
        "score = model.evaluate(x_test,y_test,verbose=1)\n",
        "print(f'Test Loss    : {score[0]}')\n",
        "print(f'Test Akurasi : {round(score[1] * 100,2)} %')"
      ],
      "metadata": {
        "colab": {
          "base_uri": "https://localhost:8080/"
        },
        "id": "jIOA1-ziqdiO",
        "outputId": "8b907b9f-7909-40ac-caee-301fada582c8"
      },
      "execution_count": 392,
      "outputs": [
        {
          "output_type": "stream",
          "name": "stdout",
          "text": [
            "313/313 [==============================] - 1s 4ms/step - loss: 0.0757 - accuracy: 0.9757\n",
            "Test Loss    : 0.07570226490497589\n",
            "Test Akurasi : 97.57 %\n"
          ]
        }
      ]
    },
    {
      "cell_type": "markdown",
      "source": [
        "- Prediksi Model"
      ],
      "metadata": {
        "id": "Q7U6fD4GE6lo"
      }
    },
    {
      "cell_type": "code",
      "source": [
        "predictions  = model.predict(x_test)"
      ],
      "metadata": {
        "colab": {
          "base_uri": "https://localhost:8080/"
        },
        "id": "5cexDhuyERlj",
        "outputId": "79362cfd-bcdc-45d9-80f6-2d257ba88315"
      },
      "execution_count": 399,
      "outputs": [
        {
          "output_type": "stream",
          "name": "stdout",
          "text": [
            "313/313 [==============================] - 1s 3ms/step\n"
          ]
        }
      ]
    },
    {
      "cell_type": "code",
      "source": [
        "label = np.argmax(predictions,axis=1)\n",
        "ActualLabel = np.argmax(y_test[2])\n",
        "img = x_test[2].reshape(28, 28)\n",
        "\n",
        "plt.title(f\"Aktual Label : {ActualLabel}, Prediksi Label : {label[2]}\")\n",
        "plt.imshow(img)\n",
        "plt.show()"
      ],
      "metadata": {
        "colab": {
          "base_uri": "https://localhost:8080/",
          "height": 281
        },
        "id": "y7pX41yP24CX",
        "outputId": "5d36590d-727e-4224-f362-4168830398a7"
      },
      "execution_count": 397,
      "outputs": [
        {
          "output_type": "display_data",
          "data": {
            "text/plain": [
              "<Figure size 432x288 with 1 Axes>"
            ],
            "image/png": "[encoded data removed]"
          },
          "metadata": {
            "needs_background": "light"
          }
        }
      ]
    },
    {
      "cell_type": "code",
      "source": [
        "plt.figure(figsize=(15,15))\n",
        "for i in range(9):\n",
        "  plt.subplot(3,3,i+1)\n",
        "  ActualLabel = np.argmax(y_test[i])\n",
        "\n",
        "  plt.title(f\"Aktual Label : {ActualLabel}, Prediksi Label : {label[i]}\")\n",
        "  plt.imshow(x_test[i].reshape(28, 28))\n",
        "  plt.axis('off')\n",
        "\n",
        "plt.show()"
      ],
      "metadata": {
        "colab": {
          "base_uri": "https://localhost:8080/",
          "height": 862
        },
        "id": "IkNZn8Sf_ddn",
        "outputId": "8da06c47-a6ac-4e73-c3a1-a1cf4b9889cd"
      },
      "execution_count": 398,
      "outputs": [
        {
          "output_type": "display_data",
          "data": {
            "text/plain": [
              "<Figure size 1080x1080 with 9 Axes>"
            ],
            "image/png": "[encoded data removed]"
          },
          "metadata": {
            "needs_background": "light"
          }
        }
      ]
    }
  ]
}