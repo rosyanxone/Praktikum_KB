{
 "cells": [
  {
   "cell_type": "markdown",
   "id": "4486b741-8af2-4313-ba69-9c9da591bc31",
   "metadata": {},
   "source": [
    "## POSTTEST02\n",
    "## Rausyanfikr Adi Karmayoga \n",
    "## 2009106020"
   ]
  },
  {
   "cell_type": "markdown",
   "id": "035db614-522e-4842-a44f-cc9a52d7e395",
   "metadata": {},
   "source": [
    "##### Import python package"
   ]
  },
  {
   "cell_type": "code",
   "execution_count": 11,
   "id": "8f5e132d-da82-4346-b9bb-af96e19d7aa3",
   "metadata": {},
   "outputs": [],
   "source": [
    "import pandas as pd\n",
    "import numpy as np"
   ]
  },
  {
   "cell_type": "markdown",
   "id": "7f549bc2-78d5-4857-baf4-07fb54065e7e",
   "metadata": {},
   "source": [
    "##### Ketentuan dataset:\n",
    "    Atribut > 4\n",
    "    Record > 1999\n",
    "    Value berupa Objek & Angka"
   ]
  },
  {
   "cell_type": "code",
   "execution_count": 12,
   "id": "34368677-b96c-4042-8089-122744bcc2c8",
   "metadata": {},
   "outputs": [
    {
     "name": "stdout",
     "output_type": "stream",
     "text": [
      "<class 'pandas.core.frame.DataFrame'>\n",
      "RangeIndex: 2000 entries, 0 to 1999\n",
      "Data columns (total 15 columns):\n",
      " #   Column    Non-Null Count  Dtype  \n",
      "---  ------    --------------  -----  \n",
      " 0   name      2000 non-null   object \n",
      " 1   rating    1982 non-null   object \n",
      " 2   genre     2000 non-null   object \n",
      " 3   year      2000 non-null   int64  \n",
      " 4   released  2000 non-null   object \n",
      " 5   score     2000 non-null   float64\n",
      " 6   votes     2000 non-null   int64  \n",
      " 7   director  2000 non-null   object \n",
      " 8   writer    1999 non-null   object \n",
      " 9   star      1999 non-null   object \n",
      " 10  country   2000 non-null   object \n",
      " 11  budget    1144 non-null   float64\n",
      " 12  gross     1867 non-null   float64\n",
      " 13  company   1990 non-null   object \n",
      " 14  runtime   2000 non-null   int64  \n",
      "dtypes: float64(3), int64(3), object(9)\n",
      "memory usage: 234.5+ KB\n"
     ]
    }
   ],
   "source": [
    "df = pd.read_csv(\"movies.csv\")\n",
    "df.info()"
   ]
  },
  {
   "cell_type": "markdown",
   "id": "4374b28b-2093-402e-9ce9-0269723dbbd1",
   "metadata": {},
   "source": [
    "- Informasi yang didapatkan adalah <b>jumlah record</b>, <b>nama attribute</b>, jumlah <b>attribute</b> dengan tipe <b>objek</b>, jumlah <b>attribute</b> dengan tipe <b>angka</b>, jumlah <b>attribute</b> yang memiliki <b>nilai null</b>.\n"
   ]
  },
  {
   "cell_type": "code",
   "execution_count": 13,
   "id": "55ad3a07-9c90-4009-9104-ce0153e55c9e",
   "metadata": {},
   "outputs": [],
   "source": [
    "# Jumlah record\n",
    "jmlRec = len(df)\n",
    "\n",
    "# Nama atribut\n",
    "listAttr = list(df.columns)\n",
    "\n",
    "# Jumlah atribut bertipe Objek\n",
    "jmlObj = len(df.dtypes[df.dtypes == 'object'])\n",
    "\n",
    "# Jumlah atribut bertipe Angka\n",
    "jmlNum = len(df.dtypes[df.dtypes == 'int64']) + len(df.dtypes[df.dtypes == 'float64'])\n",
    "\n",
    "# Jumlah atribut yang terdapat nilai null\n",
    "jmlNilaiNull = df.isna().any().sum()"
   ]
  },
  {
   "cell_type": "markdown",
   "id": "a5ea114a-ff09-4709-85fe-b41689435695",
   "metadata": {},
   "source": [
    "- Masukkan informasi di atas dalam <b>dictionary</b> dengan <b>key sesuai nama informasinya</b>. Tampilkan isi dari dictionary tersebut sebagus mungkin."
   ]
  },
  {
   "cell_type": "code",
   "execution_count": 14,
   "id": "f4e52873-75ef-4d03-be8e-7eb941d775c5",
   "metadata": {},
   "outputs": [
    {
     "name": "stdout",
     "output_type": "stream",
     "text": [
      "Jumlah record: 2000\n",
      "Nama atribut: ['name', 'rating', 'genre', 'year', 'released', 'score', 'votes', 'director', 'writer', 'star', 'country', 'budget', 'gross', 'company', 'runtime']\n",
      "Jumlah atribut bertipe objek: 9\n",
      "Jumlah atribut bertipe angka: 6\n",
      "Jumlah atribut bernilai null: 6\n"
     ]
    }
   ],
   "source": [
    "myDict = {\n",
    "    \"jumlah_record\": \"Jumlah record: %d\" %(jmlRec),\n",
    "    \"nama_atribut\": \"Nama atribut: %a\" %listAttr,\n",
    "    \"atribut_objek\": \"Jumlah atribut bertipe objek: %d\" %(jmlObj),\n",
    "    \"atribut_angka\": \"Jumlah atribut bertipe angka: %d\" %(jmlNum),\n",
    "    \"atribut_nilai_null\": \"Jumlah atribut bernilai null: %d\" %(jmlNilaiNull)\n",
    "}\n",
    "\n",
    "for dicts in myDict.values():\n",
    "    print(dicts)"
   ]
  },
  {
   "cell_type": "markdown",
   "id": "e631e932-b951-4277-8826-a007bbbe66dd",
   "metadata": {},
   "source": [
    "- Tampilkan <b>rata-rata</b>, <b>standar deviasi</b>, <b>nilai minimum</b>, <b>nilai maksimum</b>, <b>Q1</b>, <b>Q2</b>, dan <b>Q3</b> dari <b>attribute bertipe angka</b>."
   ]
  },
  {
   "cell_type": "code",
   "execution_count": 15,
   "id": "b35da1ba-0a00-4e2b-9e1c-011345276626",
   "metadata": {},
   "outputs": [
    {
     "data": {
      "text/html": [
       "<div>\n",
       "<style scoped>\n",
       "    .dataframe tbody tr th:only-of-type {\n",
       "        vertical-align: middle;\n",
       "    }\n",
       "\n",
       "    .dataframe tbody tr th {\n",
       "        vertical-align: top;\n",
       "    }\n",
       "\n",
       "    .dataframe thead th {\n",
       "        text-align: right;\n",
       "    }\n",
       "</style>\n",
       "<table border=\"1\" class=\"dataframe\">\n",
       "  <thead>\n",
       "    <tr style=\"text-align: right;\">\n",
       "      <th></th>\n",
       "      <th>year</th>\n",
       "      <th>score</th>\n",
       "      <th>votes</th>\n",
       "      <th>budget</th>\n",
       "      <th>gross</th>\n",
       "      <th>runtime</th>\n",
       "    </tr>\n",
       "  </thead>\n",
       "  <tbody>\n",
       "    <tr>\n",
       "      <th>count</th>\n",
       "      <td>2000.000000</td>\n",
       "      <td>2000.000000</td>\n",
       "      <td>2.000000e+03</td>\n",
       "      <td>1.144000e+03</td>\n",
       "      <td>1.867000e+03</td>\n",
       "      <td>2000.000000</td>\n",
       "    </tr>\n",
       "    <tr>\n",
       "      <th>rata-rata</th>\n",
       "      <td>1986.098000</td>\n",
       "      <td>6.247950</td>\n",
       "      <td>3.429564e+04</td>\n",
       "      <td>1.373013e+07</td>\n",
       "      <td>2.660151e+07</td>\n",
       "      <td>103.920000</td>\n",
       "    </tr>\n",
       "    <tr>\n",
       "      <th>standar deviasi</th>\n",
       "      <td>3.180952</td>\n",
       "      <td>0.980411</td>\n",
       "      <td>9.678406e+04</td>\n",
       "      <td>1.140242e+07</td>\n",
       "      <td>5.877410e+07</td>\n",
       "      <td>17.513879</td>\n",
       "    </tr>\n",
       "    <tr>\n",
       "      <th>nilai minimum</th>\n",
       "      <td>1980.000000</td>\n",
       "      <td>2.200000</td>\n",
       "      <td>5.100000e+01</td>\n",
       "      <td>3.000000e+03</td>\n",
       "      <td>2.270000e+03</td>\n",
       "      <td>55.000000</td>\n",
       "    </tr>\n",
       "    <tr>\n",
       "      <th>Q1</th>\n",
       "      <td>1984.000000</td>\n",
       "      <td>5.700000</td>\n",
       "      <td>2.500000e+03</td>\n",
       "      <td>6.000000e+06</td>\n",
       "      <td>2.437852e+06</td>\n",
       "      <td>93.000000</td>\n",
       "    </tr>\n",
       "    <tr>\n",
       "      <th>Q2</th>\n",
       "      <td>1986.000000</td>\n",
       "      <td>6.300000</td>\n",
       "      <td>7.300000e+03</td>\n",
       "      <td>1.100000e+07</td>\n",
       "      <td>9.056073e+06</td>\n",
       "      <td>101.000000</td>\n",
       "    </tr>\n",
       "    <tr>\n",
       "      <th>Q3</th>\n",
       "      <td>1989.000000</td>\n",
       "      <td>6.900000</td>\n",
       "      <td>2.600000e+04</td>\n",
       "      <td>1.862500e+07</td>\n",
       "      <td>2.501791e+07</td>\n",
       "      <td>111.000000</td>\n",
       "    </tr>\n",
       "    <tr>\n",
       "      <th>nilai maksimum</th>\n",
       "      <td>1991.000000</td>\n",
       "      <td>8.700000</td>\n",
       "      <td>1.300000e+06</td>\n",
       "      <td>1.020000e+08</td>\n",
       "      <td>7.929106e+08</td>\n",
       "      <td>357.000000</td>\n",
       "    </tr>\n",
       "  </tbody>\n",
       "</table>\n",
       "</div>"
      ],
      "text/plain": [
       "                        year        score         votes        budget  \\\n",
       "count            2000.000000  2000.000000  2.000000e+03  1.144000e+03   \n",
       "rata-rata        1986.098000     6.247950  3.429564e+04  1.373013e+07   \n",
       "standar deviasi     3.180952     0.980411  9.678406e+04  1.140242e+07   \n",
       "nilai minimum    1980.000000     2.200000  5.100000e+01  3.000000e+03   \n",
       "Q1               1984.000000     5.700000  2.500000e+03  6.000000e+06   \n",
       "Q2               1986.000000     6.300000  7.300000e+03  1.100000e+07   \n",
       "Q3               1989.000000     6.900000  2.600000e+04  1.862500e+07   \n",
       "nilai maksimum   1991.000000     8.700000  1.300000e+06  1.020000e+08   \n",
       "\n",
       "                        gross      runtime  \n",
       "count            1.867000e+03  2000.000000  \n",
       "rata-rata        2.660151e+07   103.920000  \n",
       "standar deviasi  5.877410e+07    17.513879  \n",
       "nilai minimum    2.270000e+03    55.000000  \n",
       "Q1               2.437852e+06    93.000000  \n",
       "Q2               9.056073e+06   101.000000  \n",
       "Q3               2.501791e+07   111.000000  \n",
       "nilai maksimum   7.929106e+08   357.000000  "
      ]
     },
     "execution_count": 15,
     "metadata": {},
     "output_type": "execute_result"
    }
   ],
   "source": [
    "desc = df.describe()\n",
    "desc.rename(index = {\"mean\": \"rata-rata\", \"std\": \"standar deviasi\", \"min\": \"nilai minimum\", \"max\": \"nilai maksimum\", \"25%\": \"Q1\", \"50%\": \"Q2\", \"75%\": \"Q3\"})"
   ]
  },
  {
   "cell_type": "markdown",
   "id": "94e3ab5e",
   "metadata": {},
   "source": [
    "- Tampilkan nilai <b>korelasi</b> attribute bertipe angka"
   ]
  },
  {
   "cell_type": "code",
   "execution_count": 16,
   "id": "1399c582",
   "metadata": {},
   "outputs": [
    {
     "data": {
      "text/html": [
       "<div>\n",
       "<style scoped>\n",
       "    .dataframe tbody tr th:only-of-type {\n",
       "        vertical-align: middle;\n",
       "    }\n",
       "\n",
       "    .dataframe tbody tr th {\n",
       "        vertical-align: top;\n",
       "    }\n",
       "\n",
       "    .dataframe thead th {\n",
       "        text-align: right;\n",
       "    }\n",
       "</style>\n",
       "<table border=\"1\" class=\"dataframe\">\n",
       "  <thead>\n",
       "    <tr style=\"text-align: right;\">\n",
       "      <th></th>\n",
       "      <th>year</th>\n",
       "      <th>score</th>\n",
       "      <th>votes</th>\n",
       "      <th>budget</th>\n",
       "      <th>gross</th>\n",
       "      <th>runtime</th>\n",
       "    </tr>\n",
       "  </thead>\n",
       "  <tbody>\n",
       "    <tr>\n",
       "      <th>year</th>\n",
       "      <td>1.000000</td>\n",
       "      <td>0.032338</td>\n",
       "      <td>0.025733</td>\n",
       "      <td>0.225531</td>\n",
       "      <td>0.062815</td>\n",
       "      <td>-0.011066</td>\n",
       "    </tr>\n",
       "    <tr>\n",
       "      <th>score</th>\n",
       "      <td>0.032338</td>\n",
       "      <td>1.000000</td>\n",
       "      <td>0.386368</td>\n",
       "      <td>0.132755</td>\n",
       "      <td>0.263294</td>\n",
       "      <td>0.371525</td>\n",
       "    </tr>\n",
       "    <tr>\n",
       "      <th>votes</th>\n",
       "      <td>0.025733</td>\n",
       "      <td>0.386368</td>\n",
       "      <td>1.000000</td>\n",
       "      <td>0.281920</td>\n",
       "      <td>0.638306</td>\n",
       "      <td>0.206829</td>\n",
       "    </tr>\n",
       "    <tr>\n",
       "      <th>budget</th>\n",
       "      <td>0.225531</td>\n",
       "      <td>0.132755</td>\n",
       "      <td>0.281920</td>\n",
       "      <td>1.000000</td>\n",
       "      <td>0.395436</td>\n",
       "      <td>0.401319</td>\n",
       "    </tr>\n",
       "    <tr>\n",
       "      <th>gross</th>\n",
       "      <td>0.062815</td>\n",
       "      <td>0.263294</td>\n",
       "      <td>0.638306</td>\n",
       "      <td>0.395436</td>\n",
       "      <td>1.000000</td>\n",
       "      <td>0.171855</td>\n",
       "    </tr>\n",
       "    <tr>\n",
       "      <th>runtime</th>\n",
       "      <td>-0.011066</td>\n",
       "      <td>0.371525</td>\n",
       "      <td>0.206829</td>\n",
       "      <td>0.401319</td>\n",
       "      <td>0.171855</td>\n",
       "      <td>1.000000</td>\n",
       "    </tr>\n",
       "  </tbody>\n",
       "</table>\n",
       "</div>"
      ],
      "text/plain": [
       "             year     score     votes    budget     gross   runtime\n",
       "year     1.000000  0.032338  0.025733  0.225531  0.062815 -0.011066\n",
       "score    0.032338  1.000000  0.386368  0.132755  0.263294  0.371525\n",
       "votes    0.025733  0.386368  1.000000  0.281920  0.638306  0.206829\n",
       "budget   0.225531  0.132755  0.281920  1.000000  0.395436  0.401319\n",
       "gross    0.062815  0.263294  0.638306  0.395436  1.000000  0.171855\n",
       "runtime -0.011066  0.371525  0.206829  0.401319  0.171855  1.000000"
      ]
     },
     "execution_count": 16,
     "metadata": {},
     "output_type": "execute_result"
    }
   ],
   "source": [
    "df.corr()"
   ]
  },
  {
   "cell_type": "markdown",
   "id": "974dc1f3",
   "metadata": {},
   "source": [
    "- <b>Rubah nilai</b> salah satu attribute bertipe angka menjadi <b>desimal 3 angka dibelakang koma</b> jika tidak ada, lakukan sebaliknya (dari desimal menjadi bilangan bulat)."
   ]
  },
  {
   "cell_type": "code",
   "execution_count": 17,
   "id": "d7195835",
   "metadata": {},
   "outputs": [
    {
     "data": {
      "text/plain": [
       "0        46998772.0\n",
       "1        58853106.0\n",
       "2       538375067.0\n",
       "3        83453539.0\n",
       "4        39846344.0\n",
       "           ...     \n",
       "1995     11128309.0\n",
       "1996     11000863.0\n",
       "1997       524668.0\n",
       "1998      1345903.0\n",
       "1999       418807.0\n",
       "Name: gross, Length: 2000, dtype: float64"
      ]
     },
     "execution_count": 17,
     "metadata": {},
     "output_type": "execute_result"
    }
   ],
   "source": [
    "df['gross']"
   ]
  },
  {
   "cell_type": "code",
   "execution_count": 18,
   "id": "91ce0e4d",
   "metadata": {},
   "outputs": [
    {
     "data": {
      "text/plain": [
       "0        46998.772\n",
       "1        58853.106\n",
       "2       538375.067\n",
       "3        83453.539\n",
       "4        39846.344\n",
       "           ...    \n",
       "1995     11128.309\n",
       "1996     11000.863\n",
       "1997       524.668\n",
       "1998      1345.903\n",
       "1999       418.807\n",
       "Name: gross, Length: 2000, dtype: float64"
      ]
     },
     "execution_count": 18,
     "metadata": {},
     "output_type": "execute_result"
    }
   ],
   "source": [
    "df.update(df['gross']*0.001)\n",
    "df['gross']"
   ]
  },
  {
   "cell_type": "markdown",
   "id": "427eaa72",
   "metadata": {},
   "source": [
    "- Tampilkan <b>10 record pertama dari attribute bertipe angka</b>."
   ]
  },
  {
   "cell_type": "code",
   "execution_count": 19,
   "id": "ee69fcc5",
   "metadata": {},
   "outputs": [
    {
     "data": {
      "text/html": [
       "<div>\n",
       "<style scoped>\n",
       "    .dataframe tbody tr th:only-of-type {\n",
       "        vertical-align: middle;\n",
       "    }\n",
       "\n",
       "    .dataframe tbody tr th {\n",
       "        vertical-align: top;\n",
       "    }\n",
       "\n",
       "    .dataframe thead th {\n",
       "        text-align: right;\n",
       "    }\n",
       "</style>\n",
       "<table border=\"1\" class=\"dataframe\">\n",
       "  <thead>\n",
       "    <tr style=\"text-align: right;\">\n",
       "      <th></th>\n",
       "      <th>year</th>\n",
       "      <th>score</th>\n",
       "      <th>votes</th>\n",
       "      <th>budget</th>\n",
       "      <th>gross</th>\n",
       "      <th>runtime</th>\n",
       "    </tr>\n",
       "  </thead>\n",
       "  <tbody>\n",
       "    <tr>\n",
       "      <th>0</th>\n",
       "      <td>1980</td>\n",
       "      <td>8.4</td>\n",
       "      <td>927000</td>\n",
       "      <td>19000000.0</td>\n",
       "      <td>46998.772</td>\n",
       "      <td>146</td>\n",
       "    </tr>\n",
       "    <tr>\n",
       "      <th>1</th>\n",
       "      <td>1980</td>\n",
       "      <td>5.8</td>\n",
       "      <td>65000</td>\n",
       "      <td>4500000.0</td>\n",
       "      <td>58853.106</td>\n",
       "      <td>104</td>\n",
       "    </tr>\n",
       "    <tr>\n",
       "      <th>2</th>\n",
       "      <td>1980</td>\n",
       "      <td>8.7</td>\n",
       "      <td>1200000</td>\n",
       "      <td>18000000.0</td>\n",
       "      <td>538375.067</td>\n",
       "      <td>124</td>\n",
       "    </tr>\n",
       "    <tr>\n",
       "      <th>3</th>\n",
       "      <td>1980</td>\n",
       "      <td>7.7</td>\n",
       "      <td>221000</td>\n",
       "      <td>3500000.0</td>\n",
       "      <td>83453.539</td>\n",
       "      <td>88</td>\n",
       "    </tr>\n",
       "    <tr>\n",
       "      <th>4</th>\n",
       "      <td>1980</td>\n",
       "      <td>7.3</td>\n",
       "      <td>108000</td>\n",
       "      <td>6000000.0</td>\n",
       "      <td>39846.344</td>\n",
       "      <td>98</td>\n",
       "    </tr>\n",
       "    <tr>\n",
       "      <th>5</th>\n",
       "      <td>1980</td>\n",
       "      <td>6.4</td>\n",
       "      <td>123000</td>\n",
       "      <td>550000.0</td>\n",
       "      <td>39754.601</td>\n",
       "      <td>95</td>\n",
       "    </tr>\n",
       "    <tr>\n",
       "      <th>6</th>\n",
       "      <td>1980</td>\n",
       "      <td>7.9</td>\n",
       "      <td>188000</td>\n",
       "      <td>27000000.0</td>\n",
       "      <td>115229.890</td>\n",
       "      <td>133</td>\n",
       "    </tr>\n",
       "    <tr>\n",
       "      <th>7</th>\n",
       "      <td>1980</td>\n",
       "      <td>8.2</td>\n",
       "      <td>330000</td>\n",
       "      <td>18000000.0</td>\n",
       "      <td>23402.427</td>\n",
       "      <td>129</td>\n",
       "    </tr>\n",
       "    <tr>\n",
       "      <th>8</th>\n",
       "      <td>1980</td>\n",
       "      <td>6.8</td>\n",
       "      <td>101000</td>\n",
       "      <td>54000000.0</td>\n",
       "      <td>108185.706</td>\n",
       "      <td>127</td>\n",
       "    </tr>\n",
       "    <tr>\n",
       "      <th>9</th>\n",
       "      <td>1980</td>\n",
       "      <td>7.0</td>\n",
       "      <td>10000</td>\n",
       "      <td>10000000.0</td>\n",
       "      <td>15795.189</td>\n",
       "      <td>100</td>\n",
       "    </tr>\n",
       "  </tbody>\n",
       "</table>\n",
       "</div>"
      ],
      "text/plain": [
       "   year  score    votes      budget       gross  runtime\n",
       "0  1980    8.4   927000  19000000.0   46998.772      146\n",
       "1  1980    5.8    65000   4500000.0   58853.106      104\n",
       "2  1980    8.7  1200000  18000000.0  538375.067      124\n",
       "3  1980    7.7   221000   3500000.0   83453.539       88\n",
       "4  1980    7.3   108000   6000000.0   39846.344       98\n",
       "5  1980    6.4   123000    550000.0   39754.601       95\n",
       "6  1980    7.9   188000  27000000.0  115229.890      133\n",
       "7  1980    8.2   330000  18000000.0   23402.427      129\n",
       "8  1980    6.8   101000  54000000.0  108185.706      127\n",
       "9  1980    7.0    10000  10000000.0   15795.189      100"
      ]
     },
     "execution_count": 19,
     "metadata": {},
     "output_type": "execute_result"
    }
   ],
   "source": [
    "numDf = df.select_dtypes(include=['float64','int64'])\n",
    "\n",
    "numDf.head(10)"
   ]
  },
  {
   "cell_type": "markdown",
   "id": "295f28b4",
   "metadata": {},
   "source": [
    "- <b>Simpan dataset</b> dengan attribute bertipe angka ke dalam file <b>CSV</b>."
   ]
  },
  {
   "cell_type": "code",
   "execution_count": 20,
   "id": "557ce7ca",
   "metadata": {},
   "outputs": [],
   "source": [
    "numDf.to_csv(\"movies - angka.csv\", index=False)"
   ]
  }
 ],
 "metadata": {
  "kernelspec": {
   "display_name": "Python 3.9.12 ('base')",
   "language": "python",
   "name": "python3"
  },
  "language_info": {
   "codemirror_mode": {
    "name": "ipython",
    "version": 3
   },
   "file_extension": ".py",
   "mimetype": "text/x-python",
   "name": "python",
   "nbconvert_exporter": "python",
   "pygments_lexer": "ipython3",
   "version": "3.9.12"
  },
  "vscode": {
   "interpreter": {
    "hash": "893543574c7e7d3c5e638782703561e210285fbe71ceec7c797ddb949279f1e0"
   }
  }
 },
 "nbformat": 4,
 "nbformat_minor": 5
}
